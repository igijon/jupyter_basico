{
 "cells": [
  {
   "cell_type": "markdown",
   "id": "3469b58a",
   "metadata": {},
   "source": [
    "<table align=\"left\">\n",
    "  <td>\n",
    "    <a href=\"https://colab.research.google.com/github/igijon/jupyter_basico/blob/main/1_jupyter.ipynb\" target=\"_parent\"><img src=\"https://colab.research.google.com/assets/colab-badge.svg\" alt=\"Open In Colab\"/></a>\n",
    "  </td>\n",
    "</table>"
   ]
  },
  {
   "cell_type": "markdown",
   "id": "0bf6e5b0-c67c-40bc-9067-79e529ade991",
   "metadata": {},
   "source": [
    "---\n",
    "\n",
    "**Autor**: Inmaculada Gijón Cardos\n",
    "\n",
    "**Licencia**: GPL v3 (https://www.gnu.org/licenses/gpl-3.0.html)\n",
    "\n",
    "---"
   ]
  },
  {
   "cell_type": "markdown",
   "id": "e7433f6d",
   "metadata": {},
   "source": [
    "\n",
    "# Principios básicos de Jupyter Notebook\n",
    "\n",
    "\n",
    "<img src=\"https://github.com/igijon/jupyter_basico/blob/main/img/jupyter.png?raw=true\" width=\"100%\"/>\n",
    "\n",
    "Se basa en el principio de **celda** en el que se combinan campos de texto y campos de código.\n",
    "Si hago **click** dos veces entramos en modo de edición.\n",
    "\n",
    "> https://markdown.es/sintaxis-markdown/#google_vignette\n",
    "\n",
    "Para salir del modo edición puedo pulsar a **Run** o las teclas **Ctrl+Intro**."
   ]
  },
  {
   "cell_type": "markdown",
   "id": "a9082180-145e-47fb-b5f5-6810bc79a691",
   "metadata": {},
   "source": [
    "## Celdas de código\n",
    "Puedo insertar código y ejecutarlo también, teniendo en cuenta, que todo se va a ejecutar en el contexto de nuestro cuaderno de Jupyter."
   ]
  },
  {
   "cell_type": "code",
   "execution_count": 2,
   "id": "95d96677-3d26-460d-99fc-67123c2d5e31",
   "metadata": {},
   "outputs": [
    {
     "name": "stdout",
     "output_type": "stream",
     "text": [
      "Somos los mejores\n",
      "6\n"
     ]
    }
   ],
   "source": [
    "print(\"Somos los mejores\")\n",
    "a = 1\n",
    "print(a+5)"
   ]
  },
  {
   "cell_type": "code",
   "execution_count": 14,
   "id": "b7557a17-f70d-49a0-9f32-4dd050a92a38",
   "metadata": {},
   "outputs": [
    {
     "name": "stdout",
     "output_type": "stream",
     "text": [
      "Requirement already satisfied: numpy in /opt/anaconda3/lib/python3.12/site-packages (1.26.4)\n"
     ]
    }
   ],
   "source": [
    "!pip install numpy"
   ]
  },
  {
   "cell_type": "code",
   "execution_count": 13,
   "id": "6aff5e20-7369-4ef1-b556-c8e714ccaeee",
   "metadata": {
    "scrolled": true
   },
   "outputs": [
    {
     "name": "stdout",
     "output_type": "stream",
     "text": [
      "10\n"
     ]
    }
   ],
   "source": [
    "import random\n",
    "a = random.randint(0, 10)\n",
    "print(a)"
   ]
  },
  {
   "cell_type": "markdown",
   "id": "bf6c691e-7bcf-4664-b6b1-2a22699723b2",
   "metadata": {},
   "source": [
    "El número que aparece al lado de una celda es el número de veces que se han realizado ejecuciones dentro del cuaderno."
   ]
  },
  {
   "cell_type": "markdown",
   "id": "cbba71e1-776a-4476-b153-ab220a971202",
   "metadata": {},
   "source": [
    "Si importo una librería, la va a importar en el contexto del cuaderno de Jupyter.\n",
    "Si no encuentra una librería, tenemos que instalarla en nuestro entorno virtual y también se puede hacer desde Jupyter Notebook poniendo en una celda:\n",
    "\n",
    "```bash\n",
    "!pip install nombre_librería\n",
    "```"
   ]
  },
  {
   "cell_type": "markdown",
   "id": "566a0275-decf-4496-a4a3-3f813e0f9cf6",
   "metadata": {},
   "source": [
    "Puedo acceder a un valor generado en celdas anteriores como vemos a continuación."
   ]
  },
  {
   "cell_type": "code",
   "execution_count": 15,
   "id": "f43f1252-30f8-4064-bbf4-a95d906ad6de",
   "metadata": {},
   "outputs": [
    {
     "name": "stdout",
     "output_type": "stream",
     "text": [
      "El valor aleatorio obtenido es 10\n"
     ]
    }
   ],
   "source": [
    "print(f\"El valor aleatorio obtenido es {a}\")"
   ]
  },
  {
   "cell_type": "markdown",
   "id": "54ec5529-9de1-4228-8db7-bfe84df6f178",
   "metadata": {},
   "source": [
    "## Atajos de teclado\n",
    "**Ctrl+Enter** Ejecuta una celda\n",
    "\n",
    "**a** Crea una celda antes de la celda actual\n",
    "\n",
    "**b** Crea una celda después de la celda actual\n",
    "\n",
    "**d pulsada dos veces** Elimina la celda actual"
   ]
  },
  {
   "cell_type": "markdown",
   "id": "7319ac36-3490-495d-b2f2-99cd2a7a9d9b",
   "metadata": {},
   "source": [
    "## Kernel\n",
    "El kernel que tenemos seleccionado por defecto es el de Python porque trabajaremos con Python.\n",
    "\n",
    "En algunas ocasiones, podemos encontrarnos algún fallo del kernel, y en ese caso debemos restaurarlo y eso restaura el proceso que hay por detrás ejecutando nuestro código.\n",
    "\n",
    "También podemos resetear las ejecuciones de las celdas.\n",
    "\n",
    "\n",
    "<img src=\"https://github.com/igijon/jupyter_basico/blob/main/img/jupyter_kernel.png?raw=true\" width=\"100%\"/>"
   ]
  },
  {
   "cell_type": "markdown",
   "id": "5d46ee40",
   "metadata": {},
   "source": [
    "## Ejercicio propuesto 1\n",
    "Crea un ejemplo en el que hagas uso del API de OpenAI para recibir un prompt del usuario y mostrar su salida de texto.  \n",
    "\n",
    "> La implementación la realizarás a continuación en esta celda insertando las celdas de texto markdown que consideres necesarias"
   ]
  },
  {
   "cell_type": "markdown",
   "id": "de317f06",
   "metadata": {},
   "source": [
    "## Ejercicio propuesto 2\n",
    "Necesitamos crear un pequeño sistema de análisis de calificaciones de estudiantes. El objetivo es procesar las calificaciones de una clase y calcular algunas estadísticas útiles.\n",
    "\n",
    "- Debes crear una lista de calificaciones con 10 calificaciones aleatorias entre 0 y 100.\n",
    "- Debes crear funciones para:\n",
    "  - Obtener calificación máxima y mínima\n",
    "  - Obtener promedio de calificaciones\n",
    "  - Contar número de aprobados y suspensos\n",
    "- Deberás poder visualizar los resultados mediante el uso de una librería llamada `matplotlib`que tendrás que investigar (más adelante trabajaremos en detalle con ella).\n",
    "  - Con esta librería (que tendrás que importar y/o instalar) queremos crear un pequeño gráfico de barras para las calificaciones en el que aparezcan en un eje los estudiantes y en el otro su calificación. \n",
    "\n",
    "> La implementación la realizarás a continuación en esta celda insertando las celdas de texto markdown que consideres necesarias"
   ]
  }
 ],
 "metadata": {
  "kernelspec": {
   "display_name": "Python 3 (ipykernel)",
   "language": "python",
   "name": "python3"
  },
  "language_info": {
   "codemirror_mode": {
    "name": "ipython",
    "version": 3
   },
   "file_extension": ".py",
   "mimetype": "text/x-python",
   "name": "python",
   "nbconvert_exporter": "python",
   "pygments_lexer": "ipython3",
   "version": "3.12.7"
  }
 },
 "nbformat": 4,
 "nbformat_minor": 5
}
